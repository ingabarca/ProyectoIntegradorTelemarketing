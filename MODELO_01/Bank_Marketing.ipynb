{
  "nbformat": 4,
  "nbformat_minor": 0,
  "metadata": {
    "colab": {
      "provenance": [],
      "authorship_tag": "ABX9TyMZSXqT2/THYiPr1aVZL0sw",
      "include_colab_link": true
    },
    "kernelspec": {
      "name": "python3",
      "display_name": "Python 3"
    },
    "language_info": {
      "name": "python"
    }
  },
  "cells": [
    {
      "cell_type": "markdown",
      "metadata": {
        "id": "view-in-github",
        "colab_type": "text"
      },
      "source": [
        "<a href=\"https://colab.research.google.com/github/ingabarca/ProyectoIntegradorTelemarketing/blob/main/MODELO_01/Bank_Marketing.ipynb\" target=\"_parent\"><img src=\"https://colab.research.google.com/assets/colab-badge.svg\" alt=\"Open In Colab\"/></a>"
      ]
    },
    {
      "cell_type": "markdown",
      "source": [
        "#PROYECTO INTEGRADOR FINAL: BANK TELEMARKETING\n",
        "El objetivo es predecir si un cliente se suscribirá a un depósito a plazo fijo que se le ofrece mediante una campaña de telemarketing.\n",
        "\n",
        "Para ello se propone crear un modelo de clasificación de aprendizaje automático con la finalidad poder usarlo en una población definida por un banco minorista de Portugal en el contexto de la recesión global del año 2008.\n"
      ],
      "metadata": {
        "id": "2m-CQBte_VAA"
      }
    },
    {
      "cell_type": "markdown",
      "source": [
        "![ProductVisionBoard](https://lh3.googleusercontent.com/Xi8UYyf07dG4wAO7oIwMJFPWa_uhM4goOnh59GdrFHdmaifvWY8e_D-ykls5e-4iS35mTpHDQdhAKVDRmotcs_EyTxssE3VWBolv20JfTry6if2n68OYVL1_r1JY0UZrfg=w1280)"
      ],
      "metadata": {
        "id": "dhjBzyQCNpJs"
      }
    },
    {
      "cell_type": "markdown",
      "source": [
        "[Product Vision Board](https://drive.google.com/file/d/1S497GyZ2X1UmfXY0AkM3IHbMJ5JFb6oy/view)\n",
        "\n"
      ],
      "metadata": {
        "id": "ojVSod5fH6X-"
      }
    }
  ]
}