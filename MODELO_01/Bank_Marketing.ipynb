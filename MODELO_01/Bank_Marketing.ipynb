{
  "nbformat": 4,
  "nbformat_minor": 0,
  "metadata": {
    "colab": {
      "provenance": [],
      "authorship_tag": "ABX9TyNTgDGMp0LyDumQTf0T852R",
      "include_colab_link": true
    },
    "kernelspec": {
      "name": "python3",
      "display_name": "Python 3"
    },
    "language_info": {
      "name": "python"
    }
  },
  "cells": [
    {
      "cell_type": "markdown",
      "metadata": {
        "id": "view-in-github",
        "colab_type": "text"
      },
      "source": [
        "<a href=\"https://colab.research.google.com/github/ingabarca/ProyectoIntegradorTelemarketing/blob/main/MODELO_01/Bank_Marketing.ipynb\" target=\"_parent\"><img src=\"https://colab.research.google.com/assets/colab-badge.svg\" alt=\"Open In Colab\"/></a>"
      ]
    },
    {
      "cell_type": "markdown",
      "source": [
        "#PROYECTO INTEGRADOR FINAL: BANK TELEMARKETING\n",
        "El objetivo es predecir si un cliente se suscribirá a un depósito a plazo fijo, ofrecido mediante una campaña de telemarketing.\n",
        "Para ello se propone crear un modelo de clasificación de aprendizaje automático con la finalidad poder usarlo en una población definida por un banco minorista de Portugal en el contexto de la recesión global del año 2008.\n"
      ],
      "metadata": {
        "id": "2m-CQBte_VAA"
      }
    },
    {
      "cell_type": "markdown",
      "source": [
        "!/content/PRODUCT VISION BOARD.PNG"
      ],
      "metadata": {
        "id": "jfEQyLZ4_e6V"
      }
    },
    {
      "cell_type": "code",
      "execution_count": null,
      "metadata": {
        "id": "pNALdyLS_PM8"
      },
      "outputs": [],
      "source": []
    }
  ]
}